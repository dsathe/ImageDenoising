{
 "cells": [
  {
   "cell_type": "code",
   "execution_count": 2,
   "metadata": {},
   "outputs": [],
   "source": [
    "import os\n",
    "import numpy as np\n",
    "import zipfile\n",
    "from urllib import request\n",
    "import matplotlib.pyplot as plt\n",
    "import matplotlib.image as mpimg\n",
    "import random\n",
    "import keras\n",
    "\n",
    "%matplotlib inline"
   ]
  },
  {
   "cell_type": "code",
   "execution_count": 3,
   "metadata": {},
   "outputs": [],
   "source": [
    "from keras import backend as K\n",
    "\n",
    "def l2_loss(y_pred,y_true):\n",
    "    return K.sum((K.square(y_true - y_pred)))"
   ]
  },
  {
   "cell_type": "code",
   "execution_count": 4,
   "metadata": {},
   "outputs": [
    {
     "name": "stdout",
     "output_type": "stream",
     "text": [
      "/home/shreyas/BE PROJECT\n"
     ]
    }
   ],
   "source": [
    "import os\n",
    "print(os.getcwd())\n"
   ]
  },
  {
   "cell_type": "code",
   "execution_count": 5,
   "metadata": {},
   "outputs": [],
   "source": [
    "import numpy as np\n",
    "import glob\n",
    "Y_train = np.zeros((47,3,256,150), dtype=np.float64)\n",
    "count = 0\n",
    "txt_files = glob.glob(\"/home/shreyas/BE PROJECT/nusta_noise10/*.nii\")\n",
    "i = 0\n",
    "z=0\n",
    "for f_name in txt_files:\n",
    "    z=z+1\n",
    "    b = np.loadtxt(f_name ,delimiter=',')\n",
    "    if b.size == 115200:\n",
    "        b = b.reshape(3,256,150)\n",
    "        Y_train[i] = b\n",
    "        i = i + 1"
   ]
  },
  {
   "cell_type": "code",
   "execution_count": 6,
   "metadata": {},
   "outputs": [
    {
     "data": {
      "text/plain": [
       "42"
      ]
     },
     "execution_count": 6,
     "metadata": {},
     "output_type": "execute_result"
    }
   ],
   "source": [
    "i"
   ]
  },
  {
   "cell_type": "code",
   "execution_count": 7,
   "metadata": {},
   "outputs": [
    {
     "data": {
      "text/plain": [
       "(42, 3, 256, 150)"
      ]
     },
     "execution_count": 7,
     "metadata": {},
     "output_type": "execute_result"
    }
   ],
   "source": [
    "Y_train = Y_train[:42,:,:]\n",
    "Y_train.shape"
   ]
  },
  {
   "cell_type": "code",
   "execution_count": 8,
   "metadata": {},
   "outputs": [],
   "source": [
    "import os\n",
    "os.chdir('/home/shreyas/BE PROJECT/image_with_noise10')"
   ]
  },
  {
   "cell_type": "code",
   "execution_count": 9,
   "metadata": {},
   "outputs": [],
   "source": [
    "import numpy as np\n",
    "import glob\n",
    "X_train = np.zeros((47,3,256,150), dtype=np.float64)\n",
    "count = 0\n",
    "txt_files = glob.glob(\"/home/shreyas/BE PROJECT/image_with_noise10/*.nii\")\n",
    "i = 0\n",
    "for f_name in txt_files:\n",
    "    b = np.loadtxt(f_name ,delimiter=',')\n",
    "    if b.size == 115200:\n",
    "        b = b.reshape(3,256,150)\n",
    "        X_train[i] = b\n",
    "        i = i + 1     "
   ]
  },
  {
   "cell_type": "code",
   "execution_count": 10,
   "metadata": {},
   "outputs": [
    {
     "name": "stdout",
     "output_type": "stream",
     "text": [
      "42\n"
     ]
    },
    {
     "data": {
      "text/plain": [
       "(42, 3, 256, 150)"
      ]
     },
     "execution_count": 10,
     "metadata": {},
     "output_type": "execute_result"
    }
   ],
   "source": [
    "print(i)\n",
    "X_train = X_train[:42,:,:]\n",
    "X_train.shape"
   ]
  },
  {
   "cell_type": "code",
   "execution_count": 11,
   "metadata": {},
   "outputs": [],
   "source": [
    "import os\n",
    "os.chdir('/home/shreyas/BE PROJECT/')"
   ]
  },
  {
   "cell_type": "code",
   "execution_count": 12,
   "metadata": {},
   "outputs": [],
   "source": [
    "from keras.models import load_model\n",
    "import tensorflow as tf\n",
    "model = tf.keras.models.load_model('model_with_noise_10.h5',custom_objects={'l2_loss':l2_loss})"
   ]
  },
  {
   "cell_type": "code",
   "execution_count": 13,
   "metadata": {},
   "outputs": [
    {
     "name": "stdout",
     "output_type": "stream",
     "text": [
      "Model: \"sequential\"\n",
      "_________________________________________________________________\n",
      "Layer (type)                 Output Shape              Param #   \n",
      "=================================================================\n",
      "conv3d (Conv3D)              (None, 3, 256, 150, 64)   1792      \n",
      "_________________________________________________________________\n",
      "conv3d_1 (Conv3D)            (None, 3, 256, 150, 64)   2359360   \n",
      "_________________________________________________________________\n",
      "batch_normalization (BatchNo (None, 3, 256, 150, 64)   256       \n",
      "_________________________________________________________________\n",
      "conv3d_2 (Conv3D)            (None, 3, 256, 150, 64)   2359360   \n",
      "_________________________________________________________________\n",
      "batch_normalization_1 (Batch (None, 3, 256, 150, 64)   256       \n",
      "_________________________________________________________________\n",
      "conv3d_3 (Conv3D)            (None, 3, 256, 150, 64)   2359360   \n",
      "_________________________________________________________________\n",
      "batch_normalization_2 (Batch (None, 3, 256, 150, 64)   256       \n",
      "_________________________________________________________________\n",
      "conv3d_4 (Conv3D)            (None, 3, 256, 150, 64)   2359360   \n",
      "_________________________________________________________________\n",
      "batch_normalization_3 (Batch (None, 3, 256, 150, 64)   256       \n",
      "_________________________________________________________________\n",
      "conv3d_5 (Conv3D)            (None, 3, 256, 150, 64)   2359360   \n",
      "_________________________________________________________________\n",
      "batch_normalization_4 (Batch (None, 3, 256, 150, 64)   256       \n",
      "_________________________________________________________________\n",
      "conv3d_6 (Conv3D)            (None, 3, 256, 150, 64)   2359360   \n",
      "_________________________________________________________________\n",
      "batch_normalization_5 (Batch (None, 3, 256, 150, 64)   256       \n",
      "_________________________________________________________________\n",
      "conv3d_7 (Conv3D)            (None, 3, 256, 150, 64)   2359360   \n",
      "_________________________________________________________________\n",
      "batch_normalization_6 (Batch (None, 3, 256, 150, 64)   256       \n",
      "_________________________________________________________________\n",
      "conv3d_8 (Conv3D)            (None, 3, 256, 150, 64)   2359360   \n",
      "_________________________________________________________________\n",
      "batch_normalization_7 (Batch (None, 3, 256, 150, 64)   256       \n",
      "_________________________________________________________________\n",
      "conv3d_9 (Conv3D)            (None, 3, 256, 150, 1)    36865     \n",
      "=================================================================\n",
      "Total params: 18,915,585\n",
      "Trainable params: 18,914,561\n",
      "Non-trainable params: 1,024\n",
      "_________________________________________________________________\n"
     ]
    }
   ],
   "source": [
    "model.summary()"
   ]
  },
  {
   "cell_type": "code",
   "execution_count": 14,
   "metadata": {},
   "outputs": [],
   "source": [
    "#PSNR CALCULATION\n",
    "\n",
    "import numpy as np\n",
    "from math import log10, sqrt \n",
    "import numpy as np \n",
    "  \n",
    "def PSNR(original, compressed): \n",
    "    mse = np.mean((original - compressed) ** 2) \n",
    "    #print(\"mse:\",mse)\n",
    "    if(mse == 0):  # MSE is zero means no noise is present in the signal.Therefore PSNR have no importance. \n",
    "                  \n",
    "        return 100\n",
    "    psnr_noisy = 20 * log10(255.0 / sqrt(mse)) \n",
    "    #print('PSNR of reconstructed validation images: {psnr}dB'.format(psnr=np.round(psnr_noisy,2)))\n",
    "    return np.round(psnr_noisy,2)"
   ]
  },
  {
   "cell_type": "code",
   "execution_count": 15,
   "metadata": {},
   "outputs": [
    {
     "data": {
      "text/plain": [
       "(42, 3, 256, 150)"
      ]
     },
     "execution_count": 15,
     "metadata": {},
     "output_type": "execute_result"
    }
   ],
   "source": [
    "test_img = X_train - Y_train\n",
    "test_img.shape"
   ]
  },
  {
   "cell_type": "code",
   "execution_count": 16,
   "metadata": {},
   "outputs": [
    {
     "name": "stdout",
     "output_type": "stream",
     "text": [
      "(1, 3, 256, 150, 1)\n"
     ]
    },
    {
     "data": {
      "text/plain": [
       "65.96"
      ]
     },
     "execution_count": 16,
     "metadata": {},
     "output_type": "execute_result"
    }
   ],
   "source": [
    "PSNR(test_img[12],X_train[12])\n",
    "resi = model.predict(np.array(X_train[12]).reshape(-1,3,256,150,1))\n",
    "print(resi.shape)\n",
    "resi = resi.reshape(3,256,150)\n",
    "PSNR(X_train[12]-resi,X_train[12])"
   ]
  },
  {
   "cell_type": "code",
   "execution_count": 17,
   "metadata": {},
   "outputs": [
    {
     "data": {
      "image/png": "[encoded data removed]",
      "text/plain": [
       "<matplotlib.figure.Figure at 0x7f4543c39278>"
      ]
     },
     "metadata": {},
     "output_type": "display_data"
    },
    {
     "data": {
      "image/png": "[encoded data removed]",
      "text/plain": [
       "<matplotlib.figure.Figure at 0x7f4543e5e2e8>"
      ]
     },
     "metadata": {},
     "output_type": "display_data"
    }
   ],
   "source": [
    "slice_A = X_train[12][1]\n",
    "fig, ax = plt.subplots()\n",
    "ax.imshow(slice_A, cmap=\"gray\")\n",
    "#plt.savefig('noisy_img(1).png',bbox_inches='tight')\n",
    "plt.show()\n",
    "\n",
    "B = X_train[12]-resi\n",
    "slice_B = B[1]\n",
    "fig, ax = plt.subplots()\n",
    "ax.imshow(slice_B, cmap=\"gray\")\n",
    "#plt.savefig('noise_free(1).png',bbox_inches='tight')\n",
    "plt.show()\n"
   ]
  },
  {
   "cell_type": "code",
   "execution_count": 18,
   "metadata": {},
   "outputs": [],
   "source": [
    "noise_inserted = []\n",
    "noise_removed = []\n",
    "nins = 0\n",
    "nrem = 0\n",
    "for i in range(30,35):\n",
    "    nins = PSNR(test_img[i],X_train[i])\n",
    "    resi = model.predict(np.array(X_train[i]).reshape(-1,3,256,150,1))\n",
    "    resi = resi.reshape(3,256,150)\n",
    "    nrem = PSNR(X_train[i]-resi,X_train[i])\n",
    "    noise_inserted.append(nins) \n",
    "    noise_removed.append(nrem)"
   ]
  },
  {
   "cell_type": "code",
   "execution_count": 19,
   "metadata": {},
   "outputs": [
    {
     "data": {
      "text/plain": [
       "[66.98, 66.97, 67.0, 67.57, 67.02]"
      ]
     },
     "execution_count": 19,
     "metadata": {},
     "output_type": "execute_result"
    }
   ],
   "source": [
    "noise_inserted"
   ]
  },
  {
   "cell_type": "code",
   "execution_count": 20,
   "metadata": {},
   "outputs": [
    {
     "data": {
      "text/plain": [
       "[67.86, 67.55, 68.35, 66.45, 73.5]"
      ]
     },
     "execution_count": 20,
     "metadata": {},
     "output_type": "execute_result"
    }
   ],
   "source": [
    "noise_removed"
   ]
  },
  {
   "cell_type": "code",
   "execution_count": 21,
   "metadata": {},
   "outputs": [],
   "source": [
    "slice_A = test_img[35:40]"
   ]
  },
  {
   "cell_type": "code",
   "execution_count": 22,
   "metadata": {},
   "outputs": [],
   "source": [
    "import random\n",
    "import numpy as np\n",
    "def add_rician_noise_to_img(noise_percent,img):\n",
    "    random_factor = noise_percent * np.random.normal(loc=0., scale=1., size=img.shape)\n",
    "    noise_image_real = img + random_factor\n",
    "    noise_image_img = random_factor\n",
    "    noise_image_real = np.square(noise_image_real) \n",
    "    noise_image_img = np.square(noise_image_img) \n",
    "    rician_noise_square =  noise_image_img + noise_image_real\n",
    "    rician_noise_image = np.sqrt(rician_noise_square)\n",
    "    return rician_noise_image"
   ]
  },
  {
   "cell_type": "code",
   "execution_count": 23,
   "metadata": {},
   "outputs": [],
   "source": [
    "noise_inserted = []\n",
    "noise_removed = []\n",
    "nins = 0\n",
    "nrem = 0\n",
    "for i in range(5):\n",
    "    rr = add_rician_noise_to_img(0.2,slice_A[i])\n",
    "    nins = PSNR(slice_A[i],rr)\n",
    "    resi = model.predict(np.array(rr).reshape(-1,3,256,150,1))\n",
    "    resi = resi.reshape(3,256,150)\n",
    "    nrem = PSNR(rr-resi,rr)\n",
    "    noise_inserted.append(nins) \n",
    "    noise_removed.append(nrem)"
   ]
  },
  {
   "cell_type": "code",
   "execution_count": 24,
   "metadata": {},
   "outputs": [
    {
     "data": {
      "text/plain": [
       "[60.4, 61.4, 60.34, 60.47, 60.62]"
      ]
     },
     "execution_count": 24,
     "metadata": {},
     "output_type": "execute_result"
    }
   ],
   "source": [
    "noise_inserted# 20"
   ]
  },
  {
   "cell_type": "code",
   "execution_count": 29,
   "metadata": {},
   "outputs": [
    {
     "data": {
      "text/plain": [
       "[67.21, 68.61, 69.46, 68.14, 73.39]"
      ]
     },
     "execution_count": 29,
     "metadata": {},
     "output_type": "execute_result"
    }
   ],
   "source": [
    "noise_removed# 20"
   ]
  },
  {
   "cell_type": "code",
   "execution_count": 30,
   "metadata": {},
   "outputs": [],
   "source": [
    "noise_inserted = []\n",
    "noise_removed = []\n",
    "nins = 0\n",
    "nrem = 0\n",
    "for i in range(5):\n",
    "    rr = add_rician_noise_to_img(0.1,slice_A[i])\n",
    "    nins = PSNR(slice_A[i],rr)\n",
    "    resi = model.predict(np.array(rr).reshape(-1,3,256,150,1))\n",
    "    resi = resi.reshape(3,256,150)\n",
    "    nrem = PSNR(rr-resi,rr)\n",
    "    noise_inserted.append(nins) \n",
    "    noise_removed.append(nrem)"
   ]
  },
  {
   "cell_type": "code",
   "execution_count": 31,
   "metadata": {},
   "outputs": [
    {
     "data": {
      "text/plain": [
       "[64.9, 66.61, 64.8, 65.0, 65.25]"
      ]
     },
     "execution_count": 31,
     "metadata": {},
     "output_type": "execute_result"
    }
   ],
   "source": [
    "noise_inserted"
   ]
  },
  {
   "cell_type": "code",
   "execution_count": 32,
   "metadata": {},
   "outputs": [
    {
     "data": {
      "text/plain": [
       "[67.21, 68.61, 69.46, 68.14, 73.39]"
      ]
     },
     "execution_count": 32,
     "metadata": {},
     "output_type": "execute_result"
    }
   ],
   "source": [
    "noise_removed"
   ]
  },
  {
   "cell_type": "code",
   "execution_count": null,
   "metadata": {},
   "outputs": [],
   "source": []
  }
 ],
 "metadata": {
  "kernelspec": {
   "display_name": "Python 3",
   "language": "python",
   "name": "python3"
  },
  "language_info": {
   "codemirror_mode": {
    "name": "ipython",
    "version": 3
   },
   "file_extension": ".py",
   "mimetype": "text/x-python",
   "name": "python",
   "nbconvert_exporter": "python",
   "pygments_lexer": "ipython3",
   "version": "3.7.4"
  }
 },
 "nbformat": 4,
 "nbformat_minor": 2
}
