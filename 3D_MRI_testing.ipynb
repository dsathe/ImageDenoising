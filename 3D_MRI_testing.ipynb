{
 "cells": [
  {
   "cell_type": "code",
   "execution_count": 1,
   "metadata": {},
   "outputs": [
    {
     "name": "stderr",
     "output_type": "stream",
     "text": [
      "Using TensorFlow backend.\n"
     ]
    }
   ],
   "source": [
    "import os\n",
    "import numpy as np\n",
    "import zipfile\n",
    "from urllib import request\n",
    "import matplotlib.pyplot as plt\n",
    "import matplotlib.image as mpimg\n",
    "import random\n",
    "import keras\n",
    "\n",
    "%matplotlib inline"
   ]
  },
  {
   "cell_type": "code",
   "execution_count": 2,
   "metadata": {},
   "outputs": [],
   "source": [
    "from keras import backend as K\n",
    "\n",
    "def l2_loss(y_pred,y_true):\n",
    "    return K.sum((K.square(y_true - y_pred)))"
   ]
  },
  {
   "cell_type": "code",
   "execution_count": 3,
   "metadata": {},
   "outputs": [
    {
     "name": "stdout",
     "output_type": "stream",
     "text": [
      "D:\\beproj\\Code\n"
     ]
    }
   ],
   "source": [
    "import os\n",
    "print(os.getcwd())\n",
    "os.chdir('nusta_noise_3slices_15')"
   ]
  },
  {
   "cell_type": "code",
   "execution_count": 4,
   "metadata": {},
   "outputs": [],
   "source": [
    "import numpy as np\n",
    "import glob\n",
    "Y_train = np.zeros((47,3,256,150), dtype=np.float64)\n",
    "count = 0\n",
    "txt_files = glob.glob(\"nusta_noise_3slices_15/*.nii\")\n",
    "i = 0\n",
    "for f_name in txt_files:\n",
    "    b = np.loadtxt(f_name ,delimiter=',')\n",
    "    if b.size == 115200:\n",
    "        b = b.reshape(3,256,150)\n",
    "        Y_train[i] = b\n",
    "        i = i + 1"
   ]
  },
  {
   "cell_type": "code",
   "execution_count": 5,
   "metadata": {},
   "outputs": [
    {
     "data": {
      "text/plain": [
       "42"
      ]
     },
     "execution_count": 5,
     "metadata": {},
     "output_type": "execute_result"
    }
   ],
   "source": [
    "i"
   ]
  },
  {
   "cell_type": "code",
   "execution_count": 6,
   "metadata": {},
   "outputs": [
    {
     "data": {
      "text/plain": [
       "(42, 3, 256, 150)"
      ]
     },
     "execution_count": 6,
     "metadata": {},
     "output_type": "execute_result"
    }
   ],
   "source": [
    "Y_train = Y_train[:42,:,:]\n",
    "Y_train.shape"
   ]
  },
  {
   "cell_type": "code",
   "execution_count": 7,
   "metadata": {},
   "outputs": [],
   "source": [
    "import os\n",
    "os.chdir('D:/beproj/Code/img_with_noise_3slices_15')"
   ]
  },
  {
   "cell_type": "code",
   "execution_count": 8,
   "metadata": {},
   "outputs": [],
   "source": [
    "import numpy as np\n",
    "import glob\n",
    "X_train = np.zeros((47,3,256,150), dtype=np.float64)\n",
    "count = 0\n",
    "txt_files = glob.glob(\"img_with_noise_3slices_15/*.nii\")\n",
    "i = 0\n",
    "for f_name in txt_files:\n",
    "    b = np.loadtxt(f_name ,delimiter=',')\n",
    "    if b.size == 115200:\n",
    "        b = b.reshape(3,256,150)\n",
    "        X_train[i] = b\n",
    "        i = i + 1     "
   ]
  },
  {
   "cell_type": "code",
   "execution_count": 9,
   "metadata": {},
   "outputs": [
    {
     "name": "stdout",
     "output_type": "stream",
     "text": [
      "42\n"
     ]
    },
    {
     "data": {
      "text/plain": [
       "(42, 3, 256, 150)"
      ]
     },
     "execution_count": 9,
     "metadata": {},
     "output_type": "execute_result"
    }
   ],
   "source": [
    "print(i)\n",
    "X_train = X_train[:42,:,:]\n",
    "X_train.shape"
   ]
  },
  {
   "cell_type": "code",
   "execution_count": 10,
   "metadata": {},
   "outputs": [],
   "source": [
    "import os\n",
    "os.chdir('D:/beproj/Code/')"
   ]
  },
  {
   "cell_type": "code",
   "execution_count": 11,
   "metadata": {},
   "outputs": [
    {
     "name": "stderr",
     "output_type": "stream",
     "text": [
      "WARNING: Logging before flag parsing goes to stderr.\n",
      "W0923 22:28:15.762627 21536 deprecation.py:506] From C:\\Users\\devendra\\Anaconda3\\envs\\tf-gpu\\lib\\site-packages\\tensorflow\\python\\ops\\init_ops.py:1251: calling VarianceScaling.__init__ (from tensorflow.python.ops.init_ops) with dtype is deprecated and will be removed in a future version.\n",
      "Instructions for updating:\n",
      "Call initializer instance with the dtype argument instead of passing it to the constructor\n",
      "W0923 22:28:25.709599 21536 deprecation.py:323] From C:\\Users\\devendra\\Anaconda3\\envs\\tf-gpu\\lib\\site-packages\\tensorflow\\python\\ops\\clip_ops.py:157: add_dispatch_support.<locals>.wrapper (from tensorflow.python.ops.array_ops) is deprecated and will be removed in a future version.\n",
      "Instructions for updating:\n",
      "Use tf.where in 2.0, which has the same broadcast rule as np.where\n"
     ]
    }
   ],
   "source": [
    "from keras.models import load_model\n",
    "import tensorflow as tf\n",
    "model = tf.keras.models.load_model('model_with_noise_15.h5',custom_objects={'l2_loss':l2_loss})"
   ]
  },
  {
   "cell_type": "code",
   "execution_count": 12,
   "metadata": {},
   "outputs": [
    {
     "name": "stdout",
     "output_type": "stream",
     "text": [
      "Model: \"sequential\"\n",
      "_________________________________________________________________\n",
      "Layer (type)                 Output Shape              Param #   \n",
      "=================================================================\n",
      "conv3d (Conv3D)              (None, 3, 256, 150, 64)   1792      \n",
      "_________________________________________________________________\n",
      "conv3d_1 (Conv3D)            (None, 3, 256, 150, 64)   2359360   \n",
      "_________________________________________________________________\n",
      "batch_normalization (BatchNo (None, 3, 256, 150, 64)   256       \n",
      "_________________________________________________________________\n",
      "conv3d_2 (Conv3D)            (None, 3, 256, 150, 64)   2359360   \n",
      "_________________________________________________________________\n",
      "batch_normalization_1 (Batch (None, 3, 256, 150, 64)   256       \n",
      "_________________________________________________________________\n",
      "conv3d_3 (Conv3D)            (None, 3, 256, 150, 64)   2359360   \n",
      "_________________________________________________________________\n",
      "batch_normalization_2 (Batch (None, 3, 256, 150, 64)   256       \n",
      "_________________________________________________________________\n",
      "conv3d_4 (Conv3D)            (None, 3, 256, 150, 64)   2359360   \n",
      "_________________________________________________________________\n",
      "batch_normalization_3 (Batch (None, 3, 256, 150, 64)   256       \n",
      "_________________________________________________________________\n",
      "conv3d_5 (Conv3D)            (None, 3, 256, 150, 64)   2359360   \n",
      "_________________________________________________________________\n",
      "batch_normalization_4 (Batch (None, 3, 256, 150, 64)   256       \n",
      "_________________________________________________________________\n",
      "conv3d_6 (Conv3D)            (None, 3, 256, 150, 64)   2359360   \n",
      "_________________________________________________________________\n",
      "batch_normalization_5 (Batch (None, 3, 256, 150, 64)   256       \n",
      "_________________________________________________________________\n",
      "conv3d_7 (Conv3D)            (None, 3, 256, 150, 64)   2359360   \n",
      "_________________________________________________________________\n",
      "batch_normalization_6 (Batch (None, 3, 256, 150, 64)   256       \n",
      "_________________________________________________________________\n",
      "conv3d_8 (Conv3D)            (None, 3, 256, 150, 64)   2359360   \n",
      "_________________________________________________________________\n",
      "batch_normalization_7 (Batch (None, 3, 256, 150, 64)   256       \n",
      "_________________________________________________________________\n",
      "conv3d_9 (Conv3D)            (None, 3, 256, 150, 1)    36865     \n",
      "=================================================================\n",
      "Total params: 18,915,585\n",
      "Trainable params: 18,914,561\n",
      "Non-trainable params: 1,024\n",
      "_________________________________________________________________\n"
     ]
    }
   ],
   "source": [
    "model.summary()"
   ]
  },
  {
   "cell_type": "code",
   "execution_count": 13,
   "metadata": {},
   "outputs": [],
   "source": [
    "#PSNR CALCULATION\n",
    "\n",
    "import numpy as np\n",
    "from math import log10, sqrt \n",
    "import numpy as np \n",
    "  \n",
    "def PSNR(original, compressed): \n",
    "    mse = np.mean((original - compressed) ** 2) \n",
    "    #print(\"mse:\",mse)\n",
    "    if(mse == 0):  # MSE is zero means no noise is present in the signal.Therefore PSNR have no importance. \n",
    "                  \n",
    "        return 100\n",
    "    psnr_noisy = 20 * log10(255.0 / sqrt(mse)) \n",
    "    #print('PSNR of reconstructed validation images: {psnr}dB'.format(psnr=np.round(psnr_noisy,2)))\n",
    "    return np.round(psnr_noisy,2)"
   ]
  },
  {
   "cell_type": "code",
   "execution_count": 14,
   "metadata": {},
   "outputs": [
    {
     "data": {
      "text/plain": [
       "(42, 3, 256, 150)"
      ]
     },
     "execution_count": 14,
     "metadata": {},
     "output_type": "execute_result"
    }
   ],
   "source": [
    "test_img = X_train - Y_train\n",
    "test_img.shape"
   ]
  },
  {
   "cell_type": "code",
   "execution_count": 26,
   "metadata": {},
   "outputs": [
    {
     "name": "stdout",
     "output_type": "stream",
     "text": [
      "(1, 3, 256, 150, 1)\n"
     ]
    },
    {
     "data": {
      "text/plain": [
       "66.99"
      ]
     },
     "execution_count": 26,
     "metadata": {},
     "output_type": "execute_result"
    }
   ],
   "source": [
    "PSNR(test_img[12],X_train[12])\n",
    "resi = model.predict(np.array(X_train[12]).reshape(-1,3,256,150,1))\n",
    "print(resi.shape)\n",
    "resi = resi.reshape(3,256,150)\n",
    "PSNR(X_train[12]-resi,X_train[12])"
   ]
  },
  {
   "cell_type": "code",
   "execution_count": 27,
   "metadata": {},
   "outputs": [
    {
     "data": {
      "image/png": "[encoded data removed]",
      "text/plain": [
       "<Figure size 432x288 with 1 Axes>"
      ]
     },
     "metadata": {
      "needs_background": "light"
     },
     "output_type": "display_data"
    },
    {
     "data": {
      "image/png": "[encoded data removed]",
      "text/plain": [
       "<Figure size 432x288 with 1 Axes>"
      ]
     },
     "metadata": {
      "needs_background": "light"
     },
     "output_type": "display_data"
    }
   ],
   "source": [
    "slice_A = X_train[12][1]\n",
    "fig, ax = plt.subplots()\n",
    "ax.imshow(slice_A, cmap=\"gray\")\n",
    "plt.show()\n",
    "\n",
    "B = X_train[12]-resi\n",
    "slice_B = B[1]\n",
    "fig, ax = plt.subplots()\n",
    "ax.imshow(slice_B, cmap=\"gray\")\n",
    "plt.show()"
   ]
  },
  {
   "cell_type": "code",
   "execution_count": 28,
   "metadata": {},
   "outputs": [],
   "source": [
    "noise_inserted = []\n",
    "noise_removed = []\n",
    "nins = 0\n",
    "nrem = 0\n",
    "for i in range(30,35):\n",
    "    nins = PSNR(test_img[i],X_train[i])\n",
    "    resi = model.predict(np.array(X_train[i]).reshape(-1,3,256,150,1))\n",
    "    resi = resi.reshape(3,256,150)\n",
    "    nrem = PSNR(X_train[i]-resi,X_train[i])\n",
    "    noise_inserted.append(nins) \n",
    "    noise_removed.append(nrem)"
   ]
  },
  {
   "cell_type": "code",
   "execution_count": 29,
   "metadata": {},
   "outputs": [
    {
     "data": {
      "text/plain": [
       "[63.68, 63.65, 63.71, 63.8, 63.53]"
      ]
     },
     "execution_count": 29,
     "metadata": {},
     "output_type": "execute_result"
    }
   ],
   "source": [
    "noise_inserted"
   ]
  },
  {
   "cell_type": "code",
   "execution_count": 30,
   "metadata": {},
   "outputs": [
    {
     "data": {
      "text/plain": [
       "[65.99, 65.96, 67.73, 65.9, 65.84]"
      ]
     },
     "execution_count": 30,
     "metadata": {},
     "output_type": "execute_result"
    }
   ],
   "source": [
    "noise_removed"
   ]
  },
  {
   "cell_type": "code",
   "execution_count": 31,
   "metadata": {},
   "outputs": [],
   "source": [
    "slice_A = test_img[35:40]"
   ]
  },
  {
   "cell_type": "code",
   "execution_count": 32,
   "metadata": {},
   "outputs": [],
   "source": [
    "import random\n",
    "import numpy as np\n",
    "def add_rician_noise_to_img(noise_percent,img):\n",
    "    random_factor = noise_percent * np.random.normal(loc=0., scale=1., size=img.shape)\n",
    "    noise_image_real = img + random_factor\n",
    "    noise_image_img = random_factor\n",
    "    noise_image_real = np.square(noise_image_real) \n",
    "    noise_image_img = np.square(noise_image_img) \n",
    "    rician_noise_square =  noise_image_img + noise_image_real\n",
    "    rician_noise_image = np.sqrt(rician_noise_square)\n",
    "    return rician_noise_image"
   ]
  },
  {
   "cell_type": "code",
   "execution_count": 42,
   "metadata": {},
   "outputs": [],
   "source": [
    "noise_inserted = []\n",
    "noise_removed = []\n",
    "nins = 0\n",
    "nrem = 0\n",
    "for i in range(5):\n",
    "    rr = add_rician_noise_to_img(0.2,slice_A[i])\n",
    "    nins = PSNR(slice_A[i],rr)\n",
    "    resi = model.predict(np.array(rr).reshape(-1,3,256,150,1))\n",
    "    resi = resi.reshape(3,256,150)\n",
    "    nrem = PSNR(rr-resi,rr)\n",
    "    noise_inserted.append(nins) \n",
    "    noise_removed.append(nrem)"
   ]
  },
  {
   "cell_type": "code",
   "execution_count": 43,
   "metadata": {},
   "outputs": [
    {
     "data": {
      "text/plain": [
       "[59.55, 59.28, 59.7, 59.71, 60.67]"
      ]
     },
     "execution_count": 43,
     "metadata": {},
     "output_type": "execute_result"
    }
   ],
   "source": [
    "noise_inserted#15 / 20"
   ]
  },
  {
   "cell_type": "code",
   "execution_count": 44,
   "metadata": {},
   "outputs": [
    {
     "data": {
      "text/plain": [
       "[65.79, 65.36, 66.51, 65.69, 66.38]"
      ]
     },
     "execution_count": 44,
     "metadata": {},
     "output_type": "execute_result"
    }
   ],
   "source": [
    "noise_removed#15 / 20"
   ]
  },
  {
   "cell_type": "code",
   "execution_count": 45,
   "metadata": {},
   "outputs": [],
   "source": [
    "noise_inserted = []\n",
    "noise_removed = []\n",
    "nins = 0\n",
    "nrem = 0\n",
    "for i in range(5):\n",
    "    rr = add_rician_noise_to_img(0.1,slice_A[i])\n",
    "    nins = PSNR(slice_A[i],rr)\n",
    "    resi = model.predict(np.array(rr).reshape(-1,3,256,150,1))\n",
    "    resi = resi.reshape(3,256,150)\n",
    "    nrem = PSNR(rr-resi,rr)\n",
    "    noise_inserted.append(nins) \n",
    "    noise_removed.append(nrem)"
   ]
  },
  {
   "cell_type": "code",
   "execution_count": 46,
   "metadata": {},
   "outputs": [
    {
     "data": {
      "text/plain": [
       "[62.92, 62.52, 63.18, 63.22, 64.79]"
      ]
     },
     "execution_count": 46,
     "metadata": {},
     "output_type": "execute_result"
    }
   ],
   "source": [
    "noise_inserted"
   ]
  },
  {
   "cell_type": "code",
   "execution_count": 47,
   "metadata": {},
   "outputs": [
    {
     "data": {
      "text/plain": [
       "[65.79, 65.36, 66.51, 65.68, 66.38]"
      ]
     },
     "execution_count": 47,
     "metadata": {},
     "output_type": "execute_result"
    }
   ],
   "source": [
    "noise_removed"
   ]
  },
  {
   "cell_type": "code",
   "execution_count": null,
   "metadata": {},
   "outputs": [],
   "source": []
  }
 ],
 "metadata": {
  "kernelspec": {
   "display_name": "Python 3",
   "language": "python",
   "name": "python3"
  },
  "language_info": {
   "codemirror_mode": {
    "name": "ipython",
    "version": 3
   },
   "file_extension": ".py",
   "mimetype": "text/x-python",
   "name": "python",
   "nbconvert_exporter": "python",
   "pygments_lexer": "ipython3",
   "version": "3.7.4"
  }
 },
 "nbformat": 4,
 "nbformat_minor": 2
}
