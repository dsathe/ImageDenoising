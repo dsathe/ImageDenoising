{
 "cells": [
  {
   "cell_type": "code",
   "execution_count": 2,
   "metadata": {
    "colab": {
     "base_uri": "https://localhost:8080/",
     "height": 34
    },
    "colab_type": "code",
    "id": "uXD4z5CYZcf5",
    "outputId": "45dcb1f5-f395-493f-c518-fa555eb4a6e8"
   },
   "outputs": [
    {
     "name": "stderr",
     "output_type": "stream",
     "text": [
      "Using TensorFlow backend.\n"
     ]
    }
   ],
   "source": [
    "import os\n",
    "import numpy as np\n",
    "import zipfile\n",
    "from urllib import request\n",
    "import matplotlib.pyplot as plt\n",
    "import matplotlib.image as mpimg\n",
    "import random\n",
    "import keras\n",
    "\n",
    "%matplotlib inline"
   ]
  },
  {
   "cell_type": "code",
   "execution_count": 1,
   "metadata": {
    "colab": {
     "base_uri": "https://localhost:8080/",
     "height": 756
    },
    "colab_type": "code",
    "id": "3Rham7ilZcgA",
    "outputId": "66e57c14-34a6-45dc-92a2-3627d87a2eb8"
   },
   "outputs": [
    {
     "name": "stdout",
     "output_type": "stream",
     "text": [
      "Model: \"sequential\"\n",
      "_________________________________________________________________\n",
      "Layer (type)                 Output Shape              Param #   \n",
      "=================================================================\n",
      "conv3d (Conv3D)              (None, 3, 256, 150, 64)   1792      \n",
      "_________________________________________________________________\n",
      "conv3d_1 (Conv3D)            (None, 3, 256, 150, 64)   2359360   \n",
      "_________________________________________________________________\n",
      "batch_normalization (BatchNo (None, 3, 256, 150, 64)   256       \n",
      "_________________________________________________________________\n",
      "conv3d_2 (Conv3D)            (None, 3, 256, 150, 64)   2359360   \n",
      "_________________________________________________________________\n",
      "batch_normalization_1 (Batch (None, 3, 256, 150, 64)   256       \n",
      "_________________________________________________________________\n",
      "conv3d_3 (Conv3D)            (None, 3, 256, 150, 64)   2359360   \n",
      "_________________________________________________________________\n",
      "batch_normalization_2 (Batch (None, 3, 256, 150, 64)   256       \n",
      "_________________________________________________________________\n",
      "conv3d_4 (Conv3D)            (None, 3, 256, 150, 64)   2359360   \n",
      "_________________________________________________________________\n",
      "batch_normalization_3 (Batch (None, 3, 256, 150, 64)   256       \n",
      "_________________________________________________________________\n",
      "conv3d_5 (Conv3D)            (None, 3, 256, 150, 64)   2359360   \n",
      "_________________________________________________________________\n",
      "batch_normalization_4 (Batch (None, 3, 256, 150, 64)   256       \n",
      "_________________________________________________________________\n",
      "conv3d_6 (Conv3D)            (None, 3, 256, 150, 64)   2359360   \n",
      "_________________________________________________________________\n",
      "batch_normalization_5 (Batch (None, 3, 256, 150, 64)   256       \n",
      "_________________________________________________________________\n",
      "conv3d_7 (Conv3D)            (None, 3, 256, 150, 64)   2359360   \n",
      "_________________________________________________________________\n",
      "batch_normalization_6 (Batch (None, 3, 256, 150, 64)   256       \n",
      "_________________________________________________________________\n",
      "conv3d_8 (Conv3D)            (None, 3, 256, 150, 64)   2359360   \n",
      "_________________________________________________________________\n",
      "batch_normalization_7 (Batch (None, 3, 256, 150, 64)   256       \n",
      "_________________________________________________________________\n",
      "conv3d_9 (Conv3D)            (None, 3, 256, 150, 1)    36865     \n",
      "=================================================================\n",
      "Total params: 18,915,585\n",
      "Trainable params: 18,914,561\n",
      "Non-trainable params: 1,024\n",
      "_________________________________________________________________\n"
     ]
    }
   ],
   "source": [
    "#from keras.models import Sequential\n",
    "#from keras.layers import Dense, Conv2D, Flatten, BatchNormalization,Input\n",
    "from tensorflow.python.keras.layers import Dense, Conv2D, Conv3D, Flatten, BatchNormalization,Input\n",
    "from tensorflow.python.keras import Sequential\n",
    "\n",
    "\n",
    "depth = 10\n",
    "filters = 64\n",
    "channels = 3\n",
    "model = Sequential()\n",
    "#Adding layers\n",
    "\n",
    "model.add(Conv3D(filters ,kernel_size=(3,3,channels), activation='relu',padding = 'same', input_shape = (3,256,150,1)))\n",
    "\n",
    "for i in range(depth-2):\n",
    "    model.add(Conv3D(filters, kernel_size=(3,3,64), activation='relu',padding = 'same'))\n",
    "    model.add(BatchNormalization())\n",
    "    \n",
    "model.add(Conv3D(1, kernel_size=(3,3,64), padding = 'same'))\n",
    "model.summary()"
   ]
  },
  {
   "cell_type": "code",
   "execution_count": 0,
   "metadata": {
    "colab": {
     "base_uri": "https://localhost:8080/",
     "height": 54
    },
    "colab_type": "code",
    "id": "v5nGbZDsZcgF",
    "outputId": "efad39ab-0931-494c-ebcd-07166db7fe2b"
   },
   "outputs": [
    {
     "data": {
      "text/plain": [
       "'\\nimport nibabel as nib\\nimport matplotlib.pyplot as plt\\nimg = nib.load(\\'IXI060-Guys-0709-IXI3DMPRAG_-s234_-0301-00003-000001-01.nii\\')\\nepi = img.get_fdata()\\nslice_A = epi[200,:,:]\\nfig, ax = plt.subplots()\\nax.imshow(slice_A, cmap=\"gray\")\\nplt.show()\\n'"
      ]
     },
     "execution_count": 15,
     "metadata": {
      "tags": []
     },
     "output_type": "execute_result"
    }
   ],
   "source": [
    "'''\n",
    "import nibabel as nib\n",
    "import matplotlib.pyplot as plt\n",
    "img = nib.load('IXI060-Guys-0709-IXI3DMPRAG_-s234_-0301-00003-000001-01.nii')\n",
    "epi = img.get_fdata()\n",
    "slice_A = epi[200,:,:]\n",
    "fig, ax = plt.subplots()\n",
    "ax.imshow(slice_A, cmap=\"gray\")\n",
    "plt.show()\n",
    "'''"
   ]
  },
  {
   "cell_type": "code",
   "execution_count": 0,
   "metadata": {
    "colab": {},
    "colab_type": "code",
    "id": "mC9GuEzxZcgJ"
   },
   "outputs": [],
   "source": [
    "import random\n",
    "import numpy as np\n",
    "def add_rician_noise_to_img(noise_percent,img):\n",
    "    random_factor = noise_percent * np.random.normal(loc=0., scale=1., size=img.shape)\n",
    "    noise_image_real = img + random_factor\n",
    "    noise_image_img = random_factor\n",
    "    noise_image_real = np.square(noise_image_real) \n",
    "    noise_image_img = np.square(noise_image_img) \n",
    "    rician_noise_square =  noise_image_img + noise_image_real\n",
    "    rician_noise_image = np.sqrt(rician_noise_square)\n",
    "    return rician_noise_image"
   ]
  },
  {
   "cell_type": "code",
   "execution_count": 0,
   "metadata": {
    "colab": {
     "base_uri": "https://localhost:8080/",
     "height": 34
    },
    "colab_type": "code",
    "id": "34tDPySLZcgN",
    "outputId": "fdebe7f7-69e0-44cf-ac9d-5594b24d1020"
   },
   "outputs": [
    {
     "data": {
      "text/plain": [
       "dtype('float64')"
      ]
     },
     "execution_count": 5,
     "metadata": {
      "tags": []
     },
     "output_type": "execute_result"
    }
   ],
   "source": [
    "#slice_A_with_noise = add_rician_noise_to_img(0.15,slice_A)\n",
    "#slice_A_with_noise.dtype"
   ]
  },
  {
   "cell_type": "code",
   "execution_count": 0,
   "metadata": {
    "colab": {
     "base_uri": "https://localhost:8080/",
     "height": 238
    },
    "colab_type": "code",
    "id": "byb03QawZcgR",
    "outputId": "f5c047e3-b40f-4be9-88df-0feb907cb7d8"
   },
   "outputs": [
    {
     "data": {
      "text/plain": [
       "array([[0.11883172, 0.23307491, 0.14087471, ..., 0.03155136, 0.22600725,\n",
       "        0.02775825],\n",
       "       [0.27675927, 0.35307442, 0.10328609, ..., 0.32540719, 0.20867756,\n",
       "        0.05926299],\n",
       "       [0.15133714, 0.32935519, 0.4591279 , ..., 0.26371642, 0.07854934,\n",
       "        0.03692822],\n",
       "       ...,\n",
       "       [0.0574409 , 0.51233359, 0.25781021, ..., 0.11240616, 0.16861795,\n",
       "        0.0910877 ],\n",
       "       [0.1611491 , 0.19597431, 0.15555928, ..., 0.42272576, 0.2149068 ,\n",
       "        0.32535748],\n",
       "       [0.08803028, 0.07919629, 0.15167038, ..., 0.1228979 , 0.14657047,\n",
       "        0.09224742]])"
      ]
     },
     "execution_count": 6,
     "metadata": {
      "tags": []
     },
     "output_type": "execute_result"
    }
   ],
   "source": [
    "#slice_A_with_noise"
   ]
  },
  {
   "cell_type": "code",
   "execution_count": 0,
   "metadata": {
    "colab": {
     "base_uri": "https://localhost:8080/",
     "height": 269
    },
    "colab_type": "code",
    "id": "F5QqY5O4ZcgV",
    "outputId": "10510997-73d6-4294-e498-7761ed2cea1c"
   },
   "outputs": [
    {
     "data": {
      "image/png": "[encoded data removed]",
      "text/plain": [
       "<Figure size 432x288 with 1 Axes>"
      ]
     },
     "metadata": {
      "tags": []
     },
     "output_type": "display_data"
    }
   ],
   "source": [
    "#fig, ax = plt.subplots()\n",
    "#ax.imshow(slice_A_with_noise, cmap=\"gray\")\n",
    "#plt.show()"
   ]
  },
  {
   "cell_type": "code",
   "execution_count": 0,
   "metadata": {
    "colab": {},
    "colab_type": "code",
    "id": "tMQyp4ecZcga"
   },
   "outputs": [],
   "source": [
    "#residual_noise = slice_A_with_noise - slice_A"
   ]
  },
  {
   "cell_type": "code",
   "execution_count": 0,
   "metadata": {
    "colab": {
     "base_uri": "https://localhost:8080/",
     "height": 269
    },
    "colab_type": "code",
    "id": "B3gShoPrZcgd",
    "outputId": "c274bd1c-a28b-4a34-e363-752c857231aa"
   },
   "outputs": [
    {
     "data": {
      "image/png": "[encoded data removed]",
      "text/plain": [
       "<Figure size 432x288 with 1 Axes>"
      ]
     },
     "metadata": {
      "tags": []
     },
     "output_type": "display_data"
    }
   ],
   "source": [
    "#fig, ax = plt.subplots()\n",
    "#ax.imshow(residual_noise, cmap=\"gray\")\n",
    "#plt.show()"
   ]
  },
  {
   "cell_type": "code",
   "execution_count": 8,
   "metadata": {
    "colab": {
     "base_uri": "https://localhost:8080/",
     "height": 840
    },
    "colab_type": "code",
    "id": "tw5tj6uEZcgh",
    "outputId": "01b96da8-4a63-4d96-b81f-cfcb234a6a1e"
   },
   "outputs": [
    {
     "name": "stdout",
     "output_type": "stream",
     "text": [
      "Archive:  /content/img_with_noise_3slices_15.zip\n",
      "   creating: img_with_noise_3slices_15/\n",
      "  inflating: img_with_noise_3slices_15/test1.nii  \n",
      "  inflating: img_with_noise_3slices_15/test17.nii  \n",
      "  inflating: img_with_noise_3slices_15/test2.nii  \n",
      "  inflating: img_with_noise_3slices_15/test4.nii  \n",
      "  inflating: img_with_noise_3slices_15/test3.nii  \n",
      "  inflating: img_with_noise_3slices_15/test5.nii  \n",
      "  inflating: img_with_noise_3slices_15/test6.nii  \n",
      "  inflating: img_with_noise_3slices_15/test7.nii  \n",
      "  inflating: img_with_noise_3slices_15/test30.nii  \n",
      "  inflating: img_with_noise_3slices_15/test8.nii  \n",
      "  inflating: img_with_noise_3slices_15/test9.nii  \n",
      "  inflating: img_with_noise_3slices_15/test10.nii  \n",
      "  inflating: img_with_noise_3slices_15/test11.nii  \n",
      "  inflating: img_with_noise_3slices_15/test12.nii  \n",
      "  inflating: img_with_noise_3slices_15/test13.nii  \n",
      "  inflating: img_with_noise_3slices_15/test14.nii  \n",
      "  inflating: img_with_noise_3slices_15/test15.nii  \n",
      "  inflating: img_with_noise_3slices_15/test16.nii  \n",
      "  inflating: img_with_noise_3slices_15/test18.nii  \n",
      "  inflating: img_with_noise_3slices_15/test19.nii  \n",
      "  inflating: img_with_noise_3slices_15/test20.nii  \n",
      "  inflating: img_with_noise_3slices_15/test21.nii  \n",
      "  inflating: img_with_noise_3slices_15/test22.nii  \n",
      "  inflating: img_with_noise_3slices_15/test23.nii  \n",
      "  inflating: img_with_noise_3slices_15/test24.nii  \n",
      "  inflating: img_with_noise_3slices_15/test25.nii  \n",
      "  inflating: img_with_noise_3slices_15/test26.nii  \n",
      "  inflating: img_with_noise_3slices_15/test27.nii  \n",
      "  inflating: img_with_noise_3slices_15/test28.nii  \n",
      "  inflating: img_with_noise_3slices_15/test29.nii  \n",
      "  inflating: img_with_noise_3slices_15/test31.nii  \n",
      "  inflating: img_with_noise_3slices_15/test32.nii  \n",
      "  inflating: img_with_noise_3slices_15/test33.nii  \n",
      "  inflating: img_with_noise_3slices_15/test34.nii  \n",
      "  inflating: img_with_noise_3slices_15/test35.nii  \n",
      "  inflating: img_with_noise_3slices_15/test36.nii  \n",
      "  inflating: img_with_noise_3slices_15/test37.nii  \n",
      "  inflating: img_with_noise_3slices_15/test38.nii  \n",
      "  inflating: img_with_noise_3slices_15/test39.nii  \n",
      "  inflating: img_with_noise_3slices_15/test40.nii  \n",
      "  inflating: img_with_noise_3slices_15/test41.nii  \n",
      "  inflating: img_with_noise_3slices_15/test42.nii  \n",
      "  inflating: img_with_noise_3slices_15/test43.nii  \n",
      "  inflating: img_with_noise_3slices_15/test44.nii  \n",
      "  inflating: img_with_noise_3slices_15/test45.nii  \n",
      "  inflating: img_with_noise_3slices_15/test46.nii  \n",
      "  inflating: img_with_noise_3slices_15/test47.nii  \n"
     ]
    }
   ],
   "source": [
    "!unzip /content/img_with_noise_3slices_15.zip"
   ]
  },
  {
   "cell_type": "code",
   "execution_count": 9,
   "metadata": {
    "colab": {
     "base_uri": "https://localhost:8080/",
     "height": 840
    },
    "colab_type": "code",
    "id": "qHoK3eos9x9N",
    "outputId": "33cc6d34-7252-4138-ea9e-a6794be82795"
   },
   "outputs": [
    {
     "name": "stdout",
     "output_type": "stream",
     "text": [
      "Archive:  /content/nusta_noise_3slices_15.zip\n",
      "   creating: nusta_noise_3slices_15/\n",
      "  inflating: nusta_noise_3slices_15/test7.nii  \n",
      "  inflating: nusta_noise_3slices_15/test2.nii  \n",
      "  inflating: nusta_noise_3slices_15/test26.nii  \n",
      "  inflating: nusta_noise_3slices_15/test1.nii  \n",
      "  inflating: nusta_noise_3slices_15/test39.nii  \n",
      "  inflating: nusta_noise_3slices_15/test27.nii  \n",
      "  inflating: nusta_noise_3slices_15/test3.nii  \n",
      "  inflating: nusta_noise_3slices_15/test4.nii  \n",
      "  inflating: nusta_noise_3slices_15/test5.nii  \n",
      "  inflating: nusta_noise_3slices_15/test6.nii  \n",
      "  inflating: nusta_noise_3slices_15/test8.nii  \n",
      "  inflating: nusta_noise_3slices_15/test9.nii  \n",
      "  inflating: nusta_noise_3slices_15/test10.nii  \n",
      "  inflating: nusta_noise_3slices_15/test11.nii  \n",
      "  inflating: nusta_noise_3slices_15/test12.nii  \n",
      "  inflating: nusta_noise_3slices_15/test13.nii  \n",
      "  inflating: nusta_noise_3slices_15/test14.nii  \n",
      "  inflating: nusta_noise_3slices_15/test15.nii  \n",
      "  inflating: nusta_noise_3slices_15/test16.nii  \n",
      "  inflating: nusta_noise_3slices_15/test17.nii  \n",
      "  inflating: nusta_noise_3slices_15/test18.nii  \n",
      "  inflating: nusta_noise_3slices_15/test19.nii  \n",
      "  inflating: nusta_noise_3slices_15/test20.nii  \n",
      "  inflating: nusta_noise_3slices_15/test21.nii  \n",
      "  inflating: nusta_noise_3slices_15/test22.nii  \n",
      "  inflating: nusta_noise_3slices_15/test23.nii  \n",
      "  inflating: nusta_noise_3slices_15/test24.nii  \n",
      "  inflating: nusta_noise_3slices_15/test25.nii  \n",
      "  inflating: nusta_noise_3slices_15/test40.nii  \n",
      "  inflating: nusta_noise_3slices_15/test28.nii  \n",
      "  inflating: nusta_noise_3slices_15/test29.nii  \n",
      "  inflating: nusta_noise_3slices_15/test30.nii  \n",
      "  inflating: nusta_noise_3slices_15/test31.nii  \n",
      "  inflating: nusta_noise_3slices_15/test32.nii  \n",
      "  inflating: nusta_noise_3slices_15/test33.nii  \n",
      "  inflating: nusta_noise_3slices_15/test34.nii  \n",
      "  inflating: nusta_noise_3slices_15/test35.nii  \n",
      "  inflating: nusta_noise_3slices_15/test36.nii  \n",
      "  inflating: nusta_noise_3slices_15/test37.nii  \n",
      "  inflating: nusta_noise_3slices_15/test38.nii  \n",
      "  inflating: nusta_noise_3slices_15/test42.nii  \n",
      "  inflating: nusta_noise_3slices_15/test41.nii  \n",
      "  inflating: nusta_noise_3slices_15/test43.nii  \n",
      "  inflating: nusta_noise_3slices_15/test44.nii  \n",
      "  inflating: nusta_noise_3slices_15/test45.nii  \n",
      "  inflating: nusta_noise_3slices_15/test46.nii  \n",
      "  inflating: nusta_noise_3slices_15/test47.nii  \n"
     ]
    }
   ],
   "source": [
    "!unzip /content/nusta_noise_3slices_15.zip"
   ]
  },
  {
   "cell_type": "code",
   "execution_count": 0,
   "metadata": {
    "colab": {},
    "colab_type": "code",
    "id": "gLXgGviRZcgl"
   },
   "outputs": [],
   "source": [
    "from keras import backend as K\n",
    "def l2_loss(y_pred,y_true):\n",
    "    return K.sum((K.square(y_true - y_pred)))"
   ]
  },
  {
   "cell_type": "code",
   "execution_count": 11,
   "metadata": {
    "colab": {
     "base_uri": "https://localhost:8080/",
     "height": 34
    },
    "colab_type": "code",
    "id": "Ybcw13C7Zcgp",
    "outputId": "1c3e7835-439b-4541-a772-e203e415343e"
   },
   "outputs": [
    {
     "name": "stdout",
     "output_type": "stream",
     "text": [
      "/content\n"
     ]
    }
   ],
   "source": [
    "import os\n",
    "print(os.getcwd())\n",
    "os.chdir('/content/nusta_noise_3slices_15')"
   ]
  },
  {
   "cell_type": "code",
   "execution_count": 0,
   "metadata": {
    "colab": {},
    "colab_type": "code",
    "id": "_Il2RtKXDs7Q"
   },
   "outputs": [],
   "source": [
    "f_name = np.loadtxt('/content/nusta_noise_3slices_15/test7.nii',delimiter=',')"
   ]
  },
  {
   "cell_type": "code",
   "execution_count": 0,
   "metadata": {
    "colab": {},
    "colab_type": "code",
    "id": "8t7s6LNVEPdY"
   },
   "outputs": [],
   "source": [
    "b = f_name.reshape(3,256,150)"
   ]
  },
  {
   "cell_type": "code",
   "execution_count": 14,
   "metadata": {
    "colab": {
     "base_uri": "https://localhost:8080/",
     "height": 34
    },
    "colab_type": "code",
    "id": "y6siWt3sEgDS",
    "outputId": "06d1e5aa-e1c1-4fa9-86fc-94967f18f355"
   },
   "outputs": [
    {
     "data": {
      "text/plain": [
       "115200"
      ]
     },
     "execution_count": 14,
     "metadata": {
      "tags": []
     },
     "output_type": "execute_result"
    }
   ],
   "source": [
    "f_name.size"
   ]
  },
  {
   "cell_type": "code",
   "execution_count": 0,
   "metadata": {
    "colab": {},
    "colab_type": "code",
    "id": "ieSAeiNaZcgu"
   },
   "outputs": [],
   "source": [
    "import numpy as np\n",
    "import glob\n",
    "Y_train = np.zeros((47,3,256,150), dtype=np.float64)\n",
    "count = 0\n",
    "txt_files = glob.glob(\"/content/nusta_noise_3slices_15/*.nii\")\n",
    "i = 0\n",
    "for f_name in txt_files:\n",
    "    b = np.loadtxt(f_name ,delimiter=',')\n",
    "    if b.size == 115200:\n",
    "        b = b.reshape(3,256,150)\n",
    "        Y_train[i] = b\n",
    "        i = i + 1"
   ]
  },
  {
   "cell_type": "code",
   "execution_count": 16,
   "metadata": {
    "colab": {
     "base_uri": "https://localhost:8080/",
     "height": 34
    },
    "colab_type": "code",
    "id": "l2r6JnfiZcgy",
    "outputId": "75d0f9b4-d019-41a5-b7fa-0b64214072d5"
   },
   "outputs": [
    {
     "data": {
      "text/plain": [
       "42"
      ]
     },
     "execution_count": 16,
     "metadata": {
      "tags": []
     },
     "output_type": "execute_result"
    }
   ],
   "source": [
    "i"
   ]
  },
  {
   "cell_type": "code",
   "execution_count": 0,
   "metadata": {
    "colab": {},
    "colab_type": "code",
    "id": "jNelR0uoZcg1"
   },
   "outputs": [],
   "source": [
    "Y_train = Y_train[:42,:,:]"
   ]
  },
  {
   "cell_type": "code",
   "execution_count": 18,
   "metadata": {
    "colab": {
     "base_uri": "https://localhost:8080/",
     "height": 34
    },
    "colab_type": "code",
    "id": "K4wPYiS0Zcg5",
    "outputId": "fb6db3b5-d70c-420e-c515-e894bf9d56f1"
   },
   "outputs": [
    {
     "data": {
      "text/plain": [
       "(42, 3, 256, 150)"
      ]
     },
     "execution_count": 18,
     "metadata": {
      "tags": []
     },
     "output_type": "execute_result"
    }
   ],
   "source": [
    "Y_train.shape"
   ]
  },
  {
   "cell_type": "code",
   "execution_count": 0,
   "metadata": {
    "colab": {},
    "colab_type": "code",
    "id": "4JPSzgugZcg8"
   },
   "outputs": [],
   "source": [
    "import os\n",
    "os.chdir('/content/img_with_noise_3slices_15')"
   ]
  },
  {
   "cell_type": "code",
   "execution_count": 0,
   "metadata": {
    "colab": {},
    "colab_type": "code",
    "id": "b7kOuyxzZchA"
   },
   "outputs": [],
   "source": [
    "import numpy as np\n",
    "import glob\n",
    "X_train = np.zeros((47,3,256,150), dtype=np.float64)\n",
    "count = 0\n",
    "txt_files = glob.glob(\"/content/img_with_noise_3slices_15/*.nii\")\n",
    "i = 0\n",
    "for f_name in txt_files:\n",
    "    b = np.loadtxt(f_name ,delimiter=',')\n",
    "    if b.size == 115200:\n",
    "        b = b.reshape(3,256,150)\n",
    "        X_train[i] = b\n",
    "        i = i + 1     "
   ]
  },
  {
   "cell_type": "code",
   "execution_count": 21,
   "metadata": {
    "colab": {
     "base_uri": "https://localhost:8080/",
     "height": 34
    },
    "colab_type": "code",
    "id": "ZOFuEJQqZchF",
    "outputId": "c68c0f98-8b1b-4cb4-d751-988dbba9372f"
   },
   "outputs": [
    {
     "data": {
      "text/plain": [
       "42"
      ]
     },
     "execution_count": 21,
     "metadata": {
      "tags": []
     },
     "output_type": "execute_result"
    }
   ],
   "source": [
    "i"
   ]
  },
  {
   "cell_type": "code",
   "execution_count": 22,
   "metadata": {
    "colab": {
     "base_uri": "https://localhost:8080/",
     "height": 34
    },
    "colab_type": "code",
    "id": "a2wPYfOBZchI",
    "outputId": "b5aa71ae-e16a-4156-8afa-6b2ecd354446"
   },
   "outputs": [
    {
     "data": {
      "text/plain": [
       "(42, 3, 256, 150)"
      ]
     },
     "execution_count": 22,
     "metadata": {
      "tags": []
     },
     "output_type": "execute_result"
    }
   ],
   "source": [
    "X_train = X_train[:42,:,:,:]\n",
    "X_train.shape"
   ]
  },
  {
   "cell_type": "code",
   "execution_count": 23,
   "metadata": {
    "colab": {
     "base_uri": "https://localhost:8080/",
     "height": 34
    },
    "colab_type": "code",
    "id": "ZxRYZF_iZchL",
    "outputId": "d44c7f6a-f524-4cb8-8af5-9a5fe46da52e"
   },
   "outputs": [
    {
     "data": {
      "text/plain": [
       "(3, 256, 150)"
      ]
     },
     "execution_count": 23,
     "metadata": {
      "tags": []
     },
     "output_type": "execute_result"
    }
   ],
   "source": [
    "X_train.shape[1:]"
   ]
  },
  {
   "cell_type": "code",
   "execution_count": 0,
   "metadata": {
    "colab": {},
    "colab_type": "code",
    "id": "NV1W2bngZchP"
   },
   "outputs": [],
   "source": [
    "import os\n",
    "os.chdir('/content/')"
   ]
  },
  {
   "cell_type": "code",
   "execution_count": 0,
   "metadata": {
    "colab": {},
    "colab_type": "code",
    "id": "Sq1U-4D4ZchS"
   },
   "outputs": [],
   "source": [
    "from tensorflow.keras.optimizers import SGD\n",
    "opt = SGD(lr=0.001, momentum=0.8, clipnorm=1.0 ,clipvalue =0.5)\n",
    "model.compile(optimizer = SGD(lr=0.001, momentum=0.8, clipnorm=1.0 ,clipvalue =0.5), loss= l2_loss)"
   ]
  },
  {
   "cell_type": "code",
   "execution_count": 26,
   "metadata": {
    "colab": {
     "base_uri": "https://localhost:8080/",
     "height": 1000
    },
    "colab_type": "code",
    "id": "VLpqajq7ZchX",
    "outputId": "0d584ade-aba2-418b-8c4d-670570f54ca2"
   },
   "outputs": [
    {
     "name": "stdout",
     "output_type": "stream",
     "text": [
      "Epoch 1/50\n",
      "4/4 [==============================] - 64s 16s/step - loss: 764928.0000\n",
      "Epoch 2/50\n",
      "4/4 [==============================] - 64s 16s/step - loss: 508072.2500\n",
      "Epoch 3/50\n",
      "4/4 [==============================] - 64s 16s/step - loss: 314512.6875\n",
      "Epoch 4/50\n",
      "4/4 [==============================] - 64s 16s/step - loss: 177411.1562\n",
      "Epoch 5/50\n",
      "4/4 [==============================] - 64s 16s/step - loss: 92502.2344\n",
      "Epoch 6/50\n",
      "4/4 [==============================] - 64s 16s/step - loss: 56668.0234\n",
      "Epoch 7/50\n",
      "4/4 [==============================] - 64s 16s/step - loss: 40465.1211\n",
      "Epoch 8/50\n",
      "4/4 [==============================] - 64s 16s/step - loss: 35172.8516\n",
      "Epoch 9/50\n",
      "4/4 [==============================] - 64s 16s/step - loss: 27661.3828\n",
      "Epoch 10/50\n",
      "4/4 [==============================] - 64s 16s/step - loss: 27013.8027\n",
      "Epoch 11/50\n",
      "4/4 [==============================] - 64s 16s/step - loss: 23488.1445\n",
      "Epoch 12/50\n",
      "4/4 [==============================] - 64s 16s/step - loss: 20785.6680\n",
      "Epoch 13/50\n",
      "4/4 [==============================] - 64s 16s/step - loss: 21785.0859\n",
      "Epoch 14/50\n",
      "4/4 [==============================] - 64s 16s/step - loss: 24096.7383\n",
      "Epoch 15/50\n",
      "4/4 [==============================] - 64s 16s/step - loss: 22347.9102\n",
      "Epoch 16/50\n",
      "4/4 [==============================] - 64s 16s/step - loss: 21253.3750\n",
      "Epoch 17/50\n",
      "4/4 [==============================] - 64s 16s/step - loss: 21239.7266\n",
      "Epoch 18/50\n",
      "4/4 [==============================] - 64s 16s/step - loss: 19963.8828\n",
      "Epoch 19/50\n",
      "4/4 [==============================] - 64s 16s/step - loss: 22192.8730\n",
      "Epoch 20/50\n",
      "4/4 [==============================] - 64s 16s/step - loss: 21290.4062\n",
      "Epoch 21/50\n",
      "4/4 [==============================] - 64s 16s/step - loss: 19053.2227\n",
      "Epoch 22/50\n",
      "4/4 [==============================] - 64s 16s/step - loss: 20444.3789\n",
      "Epoch 23/50\n",
      "4/4 [==============================] - 64s 16s/step - loss: 20319.5430\n",
      "Epoch 24/50\n",
      "4/4 [==============================] - 64s 16s/step - loss: 19567.7285\n",
      "Epoch 25/50\n",
      "4/4 [==============================] - 64s 16s/step - loss: 19137.2227\n",
      "Epoch 26/50\n",
      "4/4 [==============================] - 64s 16s/step - loss: 18610.3770\n",
      "Epoch 27/50\n",
      "4/4 [==============================] - 64s 16s/step - loss: 19031.3789\n",
      "Epoch 28/50\n",
      "4/4 [==============================] - 64s 16s/step - loss: 18055.3496\n",
      "Epoch 29/50\n",
      "4/4 [==============================] - 64s 16s/step - loss: 17193.0508\n",
      "Epoch 30/50\n",
      "4/4 [==============================] - 64s 16s/step - loss: 19009.6895\n",
      "Epoch 31/50\n",
      "4/4 [==============================] - 64s 16s/step - loss: 18215.4434\n",
      "Epoch 32/50\n",
      "4/4 [==============================] - 64s 16s/step - loss: 18762.2109\n",
      "Epoch 33/50\n",
      "4/4 [==============================] - 64s 16s/step - loss: 19062.4375\n",
      "Epoch 34/50\n",
      "4/4 [==============================] - 64s 16s/step - loss: 18966.7930\n",
      "Epoch 35/50\n",
      "4/4 [==============================] - 64s 16s/step - loss: 18205.9121\n",
      "Epoch 36/50\n",
      "4/4 [==============================] - 64s 16s/step - loss: 18783.8086\n",
      "Epoch 37/50\n",
      "4/4 [==============================] - 64s 16s/step - loss: 18298.1953\n",
      "Epoch 38/50\n",
      "4/4 [==============================] - 64s 16s/step - loss: 17976.3711\n",
      "Epoch 39/50\n",
      "4/4 [==============================] - 64s 16s/step - loss: 17934.0781\n",
      "Epoch 40/50\n",
      "4/4 [==============================] - 64s 16s/step - loss: 18480.9941\n",
      "Epoch 41/50\n",
      "4/4 [==============================] - 64s 16s/step - loss: 17725.7695\n",
      "Epoch 42/50\n",
      "4/4 [==============================] - 64s 16s/step - loss: 17990.0781\n",
      "Epoch 43/50\n",
      "4/4 [==============================] - 64s 16s/step - loss: 17989.3379\n",
      "Epoch 44/50\n",
      "4/4 [==============================] - 64s 16s/step - loss: 17927.9941\n",
      "Epoch 45/50\n",
      "4/4 [==============================] - 64s 16s/step - loss: 17426.2695\n",
      "Epoch 46/50\n",
      "4/4 [==============================] - 64s 16s/step - loss: 17656.7891\n",
      "Epoch 47/50\n",
      "4/4 [==============================] - 64s 16s/step - loss: 17225.7266\n",
      "Epoch 48/50\n",
      "4/4 [==============================] - 64s 16s/step - loss: 17056.1523\n",
      "Epoch 49/50\n",
      "4/4 [==============================] - 64s 16s/step - loss: 17407.3262\n",
      "Epoch 50/50\n",
      "4/4 [==============================] - 64s 16s/step - loss: 17840.4004\n"
     ]
    },
    {
     "data": {
      "text/plain": [
       "<tensorflow.python.keras.callbacks.History at 0x7fe5f0762d68>"
      ]
     },
     "execution_count": 26,
     "metadata": {
      "tags": []
     },
     "output_type": "execute_result"
    }
   ],
   "source": [
    "model.fit(X_train[:20,:,:,:].reshape(-1,3,256,150,1),Y_train[:20,:,:,:].reshape(-1,3,256,150,1),epochs=50 ,batch_size=5)"
   ]
  },
  {
   "cell_type": "code",
   "execution_count": 0,
   "metadata": {
    "colab": {},
    "colab_type": "code",
    "id": "1qnnz3lNZcha"
   },
   "outputs": [],
   "source": [
    "model.save('model_with_noise_15.h5')"
   ]
  },
  {
   "cell_type": "code",
   "execution_count": 0,
   "metadata": {
    "colab": {},
    "colab_type": "code",
    "id": "ykBY6Ts-Zche",
    "outputId": "ff44ed3f-05ea-4aa8-d114-7fd923723751"
   },
   "outputs": [
    {
     "data": {
      "text/plain": [
       "(1, 256, 150, 1)"
      ]
     },
     "execution_count": 76,
     "metadata": {
      "tags": []
     },
     "output_type": "execute_result"
    }
   ],
   "source": [
    "#resi = model.predict(np.array(slice_A_with_noise).reshape(-1,256,150,3,1))\n",
    "#resi.shape"
   ]
  },
  {
   "cell_type": "code",
   "execution_count": 0,
   "metadata": {
    "colab": {},
    "colab_type": "code",
    "id": "hk4ak2F-Zchp"
   },
   "outputs": [],
   "source": [
    "#PSNR CALCULATION\n",
    "\n",
    "import numpy as np\n",
    "from math import log10, sqrt \n",
    "import numpy as np \n",
    "  \n",
    "def PSNR(original, compressed): \n",
    "    mse = np.mean((original - compressed) ** 2) \n",
    "    #print(\"mse:\",mse)\n",
    "    if(mse == 0):  # MSE is zero means no noise is present in the signal.Therefore PSNR have no importance. \n",
    "                  \n",
    "        return 100\n",
    "    psnr_noisy = 20 * log10(255.0 / sqrt(mse)) \n",
    "    #print('PSNR of reconstructed validation images: {psnr}dB'.format(psnr=np.round(psnr_noisy,2)))\n",
    "    return np.round(psnr_noisy,2)"
   ]
  },
  {
   "cell_type": "code",
   "execution_count": 0,
   "metadata": {
    "colab": {},
    "colab_type": "code",
    "id": "YOte3v9JZchr"
   },
   "outputs": [],
   "source": [
    "noise_inserted = 0\n",
    "noise_removed = 0"
   ]
  },
  {
   "cell_type": "code",
   "execution_count": 30,
   "metadata": {
    "colab": {
     "base_uri": "https://localhost:8080/",
     "height": 162
    },
    "colab_type": "code",
    "id": "OcIqvhA8Zchw",
    "outputId": "9efc22c5-453a-4f72-8404-6b67d8bbab07"
   },
   "outputs": [
    {
     "ename": "NameError",
     "evalue": "ignored",
     "output_type": "error",
     "traceback": [
      "\u001b[0;31m---------------------------------------------------------------------------\u001b[0m",
      "\u001b[0;31mNameError\u001b[0m                                 Traceback (most recent call last)",
      "\u001b[0;32m<ipython-input-30-3e0dff707724>\u001b[0m in \u001b[0;36m<module>\u001b[0;34m()\u001b[0m\n\u001b[0;32m----> 1\u001b[0;31m \u001b[0mPSNR\u001b[0m\u001b[0;34m(\u001b[0m\u001b[0mres1\u001b[0m\u001b[0;34m,\u001b[0m\u001b[0mslice_A_with_noise\u001b[0m\u001b[0;34m)\u001b[0m\u001b[0;34m\u001b[0m\u001b[0;34m\u001b[0m\u001b[0m\n\u001b[0m",
      "\u001b[0;31mNameError\u001b[0m: name 'res1' is not defined"
     ]
    }
   ],
   "source": [
    "PSNR(res1,slice_A_with_noise)"
   ]
  },
  {
   "cell_type": "code",
   "execution_count": 31,
   "metadata": {
    "colab": {
     "base_uri": "https://localhost:8080/",
     "height": 34
    },
    "colab_type": "code",
    "id": "co-8cngRt9ZQ",
    "outputId": "910b4830-58ae-408a-fa8b-8503cb43f63a"
   },
   "outputs": [
    {
     "data": {
      "text/plain": [
       "(42, 3, 256, 150)"
      ]
     },
     "execution_count": 31,
     "metadata": {
      "tags": []
     },
     "output_type": "execute_result"
    }
   ],
   "source": [
    "test_img = X_train - Y_train\n",
    "test_img.shape"
   ]
  },
  {
   "cell_type": "code",
   "execution_count": 0,
   "metadata": {
    "colab": {},
    "colab_type": "code",
    "id": "hYa1jAjGZch1"
   },
   "outputs": [],
   "source": [
    "nins = 0\n",
    "nrem = 0\n",
    "for i in range(21,30):\n",
    "  nins = PSNR(test_img[i],X_train[i])\n",
    "  resi = model.predict(np.array(X_train[i]).reshape(-1,3,256,150,1))\n",
    "  resi = resi.reshape(3,256,150)\n",
    "  nrem = PSNR(X_train[i]-resi,X_train[i])\n",
    "  noise_inserted = noise_inserted + nins\n",
    "  noise_removed = noise_removed + nrem\n",
    "  "
   ]
  },
  {
   "cell_type": "code",
   "execution_count": 0,
   "metadata": {
    "colab": {},
    "colab_type": "code",
    "id": "QC4d_86R1uEe"
   },
   "outputs": [],
   "source": [
    "noise_inserted = noise_inserted/(30-21)\n",
    "noise_removed = noise_removed/(30-21)"
   ]
  },
  {
   "cell_type": "code",
   "execution_count": 56,
   "metadata": {
    "colab": {
     "base_uri": "https://localhost:8080/",
     "height": 50
    },
    "colab_type": "code",
    "id": "4DQOn5Hz130F",
    "outputId": "0b10e14f-1966-4b0e-d743-d208bfc4f375"
   },
   "outputs": [
    {
     "name": "stdout",
     "output_type": "stream",
     "text": [
      "63.663333333333334\n",
      "66.36888888888889\n"
     ]
    }
   ],
   "source": [
    "print(noise_inserted)\n",
    "print(noise_removed)"
   ]
  },
  {
   "cell_type": "code",
   "execution_count": 44,
   "metadata": {
    "colab": {
     "base_uri": "https://localhost:8080/",
     "height": 67
    },
    "colab_type": "code",
    "id": "18-2DSEgulpG",
    "outputId": "0707156b-28db-412a-de2f-28240e8b0d3b"
   },
   "outputs": [
    {
     "name": "stdout",
     "output_type": "stream",
     "text": [
      "PSNR of reconstructed validation images: 64.02dB\n",
      "(1, 3, 256, 150, 1)\n",
      "PSNR of reconstructed validation images: 66.15dB\n"
     ]
    }
   ],
   "source": [
    "PSNR(test_img[41],X_train[41])\n",
    "resi = model.predict(np.array(X_train[41]).reshape(-1,3,256,150,1))\n",
    "print(resi.shape)\n",
    "resi = resi.reshape(3,256,150)\n",
    "PSNR(X_train[41]-resi,X_train[41])"
   ]
  },
  {
   "cell_type": "code",
   "execution_count": 53,
   "metadata": {
    "colab": {
     "base_uri": "https://localhost:8080/",
     "height": 34
    },
    "colab_type": "code",
    "id": "nyxLwEpLv8Hb",
    "outputId": "f09ae04c-b1ca-4049-ef3c-b83a96699f10"
   },
   "outputs": [
    {
     "data": {
      "text/plain": [
       "64.02"
      ]
     },
     "execution_count": 53,
     "metadata": {
      "tags": []
     },
     "output_type": "execute_result"
    }
   ],
   "source": [
    "PSNR(X_train[41]-Y_train[41],X_train[41])"
   ]
  },
  {
   "cell_type": "code",
   "execution_count": null,
   "metadata": {
    "colab": {},
    "colab_type": "code",
    "id": "MWDsdy-_uq5u"
   },
   "outputs": [],
   "source": []
  },
  {
   "cell_type": "code",
   "execution_count": null,
   "metadata": {},
   "outputs": [],
   "source": []
  }
 ],
 "metadata": {
  "accelerator": "GPU",
  "colab": {
   "name": "multi_channel_with_noise_15.ipynb",
   "provenance": [],
   "toc_visible": true
  },
  "kernelspec": {
   "display_name": "Python 3",
   "language": "python",
   "name": "python3"
  },
  "language_info": {
   "codemirror_mode": {
    "name": "ipython",
    "version": 3
   },
   "file_extension": ".py",
   "mimetype": "text/x-python",
   "name": "python",
   "nbconvert_exporter": "python",
   "pygments_lexer": "ipython3",
   "version": "3.7.4"
  }
 },
 "nbformat": 4,
 "nbformat_minor": 1
}
