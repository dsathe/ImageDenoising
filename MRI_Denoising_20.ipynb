{
 "cells": [
  {
   "cell_type": "code",
   "execution_count": 1,
   "metadata": {},
   "outputs": [
    {
     "name": "stderr",
     "output_type": "stream",
     "text": [
      "Using TensorFlow backend.\n",
      "/home/vindeep/.local/lib/python3.6/site-packages/tensorflow/python/framework/dtypes.py:523: FutureWarning: Passing (type, 1) or '1type' as a synonym of type is deprecated; in a future version of numpy, it will be understood as (type, (1,)) / '(1,)type'.\n",
      "  _np_qint8 = np.dtype([(\"qint8\", np.int8, 1)])\n",
      "/home/vindeep/.local/lib/python3.6/site-packages/tensorflow/python/framework/dtypes.py:524: FutureWarning: Passing (type, 1) or '1type' as a synonym of type is deprecated; in a future version of numpy, it will be understood as (type, (1,)) / '(1,)type'.\n",
      "  _np_quint8 = np.dtype([(\"quint8\", np.uint8, 1)])\n",
      "/home/vindeep/.local/lib/python3.6/site-packages/tensorflow/python/framework/dtypes.py:525: FutureWarning: Passing (type, 1) or '1type' as a synonym of type is deprecated; in a future version of numpy, it will be understood as (type, (1,)) / '(1,)type'.\n",
      "  _np_qint16 = np.dtype([(\"qint16\", np.int16, 1)])\n",
      "/home/vindeep/.local/lib/python3.6/site-packages/tensorflow/python/framework/dtypes.py:526: FutureWarning: Passing (type, 1) or '1type' as a synonym of type is deprecated; in a future version of numpy, it will be understood as (type, (1,)) / '(1,)type'.\n",
      "  _np_quint16 = np.dtype([(\"quint16\", np.uint16, 1)])\n",
      "/home/vindeep/.local/lib/python3.6/site-packages/tensorflow/python/framework/dtypes.py:527: FutureWarning: Passing (type, 1) or '1type' as a synonym of type is deprecated; in a future version of numpy, it will be understood as (type, (1,)) / '(1,)type'.\n",
      "  _np_qint32 = np.dtype([(\"qint32\", np.int32, 1)])\n",
      "/home/vindeep/.local/lib/python3.6/site-packages/tensorflow/python/framework/dtypes.py:532: FutureWarning: Passing (type, 1) or '1type' as a synonym of type is deprecated; in a future version of numpy, it will be understood as (type, (1,)) / '(1,)type'.\n",
      "  np_resource = np.dtype([(\"resource\", np.ubyte, 1)])\n"
     ]
    }
   ],
   "source": [
    "import os\n",
    "import numpy as np\n",
    "import zipfile\n",
    "from urllib import request\n",
    "import matplotlib.pyplot as plt\n",
    "import matplotlib.image as mpimg\n",
    "import random\n",
    "import keras\n",
    "\n",
    "%matplotlib inline"
   ]
  },
  {
   "cell_type": "code",
   "execution_count": 2,
   "metadata": {},
   "outputs": [],
   "source": [
    "import random\n",
    "import numpy as np\n",
    "def add_rician_noise_to_img(noise_percent,img):\n",
    "    random_factor = noise_percent * np.random.normal(loc=0., scale=1., size=img.shape)\n",
    "    noise_image_real = img + random_factor\n",
    "    noise_image_img = random_factor\n",
    "    noise_image_real = np.square(noise_image_real) \n",
    "    noise_image_img = np.square(noise_image_img) \n",
    "    rician_noise_square =  noise_image_img + noise_image_real\n",
    "    rician_noise_image = np.sqrt(rician_noise_square)\n",
    "    return rician_noise_image"
   ]
  },
  {
   "cell_type": "code",
   "execution_count": 3,
   "metadata": {},
   "outputs": [],
   "source": [
    "from keras import backend as K\n",
    "def l2_loss(y_pred,y_true):\n",
    "    return K.sum((K.square(y_true - y_pred)))"
   ]
  },
  {
   "cell_type": "code",
   "execution_count": 4,
   "metadata": {},
   "outputs": [],
   "source": [
    "import os\n",
    "os.chdir('/home/vindeep/BE_Project/Noise20_Training/')"
   ]
  },
  {
   "cell_type": "code",
   "execution_count": 5,
   "metadata": {},
   "outputs": [],
   "source": [
    "import numpy as np\n",
    "import glob\n",
    "Y_train = np.zeros((47,3,256,150), dtype=np.float64)\n",
    "count = 0\n",
    "txt_files = glob.glob(\"nusta_noise20/*.nii\")\n",
    "i = 0\n",
    "for f_name in txt_files:\n",
    "    b = np.loadtxt(f_name ,delimiter=',')\n",
    "    if b.size == 115200:\n",
    "        b = b.reshape(3,256,150)\n",
    "        Y_train[i] = b\n",
    "        i = i + 1"
   ]
  },
  {
   "cell_type": "code",
   "execution_count": 6,
   "metadata": {},
   "outputs": [
    {
     "data": {
      "text/plain": [
       "42"
      ]
     },
     "execution_count": 6,
     "metadata": {},
     "output_type": "execute_result"
    }
   ],
   "source": [
    "i"
   ]
  },
  {
   "cell_type": "code",
   "execution_count": 7,
   "metadata": {},
   "outputs": [],
   "source": [
    "Y_train = Y_train[:42,:,:]"
   ]
  },
  {
   "cell_type": "code",
   "execution_count": 8,
   "metadata": {},
   "outputs": [
    {
     "data": {
      "text/plain": [
       "(42, 3, 256, 150)"
      ]
     },
     "execution_count": 8,
     "metadata": {},
     "output_type": "execute_result"
    }
   ],
   "source": [
    "Y_train.shape"
   ]
  },
  {
   "cell_type": "code",
   "execution_count": 9,
   "metadata": {},
   "outputs": [],
   "source": [
    "import numpy as np\n",
    "import glob\n",
    "X_train = np.zeros((47,3,256,150), dtype=np.float64)\n",
    "count = 0\n",
    "txt_files = glob.glob(\"image_with_noise20/*.nii\")\n",
    "i = 0\n",
    "for f_name in txt_files:\n",
    "    b = np.loadtxt(f_name ,delimiter=',')\n",
    "    if b.size == 115200:\n",
    "        b = b.reshape(3,256,150)\n",
    "        X_train[i] = b\n",
    "        i = i + 1  "
   ]
  },
  {
   "cell_type": "code",
   "execution_count": 10,
   "metadata": {},
   "outputs": [
    {
     "data": {
      "text/plain": [
       "42"
      ]
     },
     "execution_count": 10,
     "metadata": {},
     "output_type": "execute_result"
    }
   ],
   "source": [
    "i"
   ]
  },
  {
   "cell_type": "code",
   "execution_count": 11,
   "metadata": {},
   "outputs": [
    {
     "data": {
      "text/plain": [
       "(42, 3, 256, 150)"
      ]
     },
     "execution_count": 11,
     "metadata": {},
     "output_type": "execute_result"
    }
   ],
   "source": [
    "X_train = X_train[:42,:,:,:]\n",
    "X_train.shape"
   ]
  },
  {
   "cell_type": "code",
   "execution_count": 12,
   "metadata": {},
   "outputs": [
    {
     "data": {
      "text/plain": [
       "(42, 3, 256, 150)"
      ]
     },
     "execution_count": 12,
     "metadata": {},
     "output_type": "execute_result"
    }
   ],
   "source": [
    "X_train = X_train[:42,:,:,:]\n",
    "X_train.shape"
   ]
  },
  {
   "cell_type": "code",
   "execution_count": 13,
   "metadata": {},
   "outputs": [],
   "source": [
    "import os\n",
    "os.chdir('/home/vindeep/BE_Project/Noise20_Training/')"
   ]
  },
  {
   "cell_type": "code",
   "execution_count": 14,
   "metadata": {},
   "outputs": [],
   "source": [
    "from keras.models import load_model\n",
    "import tensorflow as tf\n",
    "model = tf.keras.models.load_model('my_model_v2_vindeep.h5', custom_objects={'l2_loss':l2_loss}, compile = False)"
   ]
  },
  {
   "cell_type": "code",
   "execution_count": 15,
   "metadata": {},
   "outputs": [
    {
     "name": "stdout",
     "output_type": "stream",
     "text": [
      "_________________________________________________________________\n",
      "Layer (type)                 Output Shape              Param #   \n",
      "=================================================================\n",
      "conv3d (Conv3D)              (None, 3, 256, 150, 64)   1792      \n",
      "_________________________________________________________________\n",
      "conv3d_1 (Conv3D)            (None, 3, 256, 150, 64)   2359360   \n",
      "_________________________________________________________________\n",
      "batch_normalization (BatchNo (None, 3, 256, 150, 64)   256       \n",
      "_________________________________________________________________\n",
      "conv3d_2 (Conv3D)            (None, 3, 256, 150, 64)   2359360   \n",
      "_________________________________________________________________\n",
      "batch_normalization_1 (Batch (None, 3, 256, 150, 64)   256       \n",
      "_________________________________________________________________\n",
      "conv3d_3 (Conv3D)            (None, 3, 256, 150, 64)   2359360   \n",
      "_________________________________________________________________\n",
      "batch_normalization_2 (Batch (None, 3, 256, 150, 64)   256       \n",
      "_________________________________________________________________\n",
      "conv3d_4 (Conv3D)            (None, 3, 256, 150, 64)   2359360   \n",
      "_________________________________________________________________\n",
      "batch_normalization_3 (Batch (None, 3, 256, 150, 64)   256       \n",
      "_________________________________________________________________\n",
      "conv3d_5 (Conv3D)            (None, 3, 256, 150, 64)   2359360   \n",
      "_________________________________________________________________\n",
      "batch_normalization_4 (Batch (None, 3, 256, 150, 64)   256       \n",
      "_________________________________________________________________\n",
      "conv3d_6 (Conv3D)            (None, 3, 256, 150, 64)   2359360   \n",
      "_________________________________________________________________\n",
      "batch_normalization_5 (Batch (None, 3, 256, 150, 64)   256       \n",
      "_________________________________________________________________\n",
      "conv3d_7 (Conv3D)            (None, 3, 256, 150, 64)   2359360   \n",
      "_________________________________________________________________\n",
      "batch_normalization_6 (Batch (None, 3, 256, 150, 64)   256       \n",
      "_________________________________________________________________\n",
      "conv3d_8 (Conv3D)            (None, 3, 256, 150, 64)   2359360   \n",
      "_________________________________________________________________\n",
      "batch_normalization_7 (Batch (None, 3, 256, 150, 64)   256       \n",
      "_________________________________________________________________\n",
      "conv3d_9 (Conv3D)            (None, 3, 256, 150, 1)    36865     \n",
      "=================================================================\n",
      "Total params: 18,915,585\n",
      "Trainable params: 18,914,561\n",
      "Non-trainable params: 1,024\n",
      "_________________________________________________________________\n"
     ]
    }
   ],
   "source": [
    "model.summary()"
   ]
  },
  {
   "cell_type": "code",
   "execution_count": 16,
   "metadata": {},
   "outputs": [],
   "source": [
    "#PSNR CALCULATION\n",
    "\n",
    "import numpy as np\n",
    "from math import log10, sqrt \n",
    "import numpy as np \n",
    "  \n",
    "def PSNR(original, compressed): \n",
    "    mse = np.mean((original - compressed) ** 2) \n",
    "    #print(\"mse:\",mse)\n",
    "    if(mse == 0):  # MSE is zero means no noise is present in the signal.Therefore PSNR have no importance. \n",
    "                  \n",
    "        return 100\n",
    "    psnr_noisy = 20 * log10(255.0 / sqrt(mse)) \n",
    "    #print('PSNR of reconstructed validation images: {psnr}dB'.format(psnr=np.round(psnr_noisy,2)))\n",
    "    return np.round(psnr_noisy,2)"
   ]
  },
  {
   "cell_type": "code",
   "execution_count": 17,
   "metadata": {},
   "outputs": [
    {
     "data": {
      "text/plain": [
       "(42, 3, 256, 150)"
      ]
     },
     "execution_count": 17,
     "metadata": {},
     "output_type": "execute_result"
    }
   ],
   "source": [
    "test_img = X_train - Y_train\n",
    "test_img.shape"
   ]
  },
  {
   "cell_type": "code",
   "execution_count": 18,
   "metadata": {},
   "outputs": [
    {
     "data": {
      "text/plain": [
       "60.89"
      ]
     },
     "execution_count": 18,
     "metadata": {},
     "output_type": "execute_result"
    }
   ],
   "source": [
    "PSNR(test_img[12],X_train[12])"
   ]
  },
  {
   "cell_type": "code",
   "execution_count": 19,
   "metadata": {},
   "outputs": [
    {
     "name": "stdout",
     "output_type": "stream",
     "text": [
      "(1, 3, 256, 150, 1)\n"
     ]
    },
    {
     "data": {
      "text/plain": [
       "64.84"
      ]
     },
     "execution_count": 19,
     "metadata": {},
     "output_type": "execute_result"
    }
   ],
   "source": [
    "PSNR(test_img[12],X_train[12])\n",
    "resi = model.predict(np.array(X_train[12]).reshape(-1,3,256,150,1))\n",
    "print(resi.shape)\n",
    "resi = resi.reshape(3,256,150)\n",
    "PSNR(X_train[12]-resi,X_train[12])"
   ]
  },
  {
   "cell_type": "code",
   "execution_count": 19,
   "metadata": {},
   "outputs": [
    {
     "data": {
      "text/plain": [
       "array([[[ True,  True,  True, ...,  True,  True,  True],\n",
       "        [ True,  True,  True, ...,  True,  True,  True],\n",
       "        [ True,  True,  True, ...,  True,  True,  True],\n",
       "        ...,\n",
       "        [ True,  True,  True, ...,  True,  True,  True],\n",
       "        [ True,  True,  True, ...,  True,  True,  True],\n",
       "        [ True,  True,  True, ...,  True,  True,  True]],\n",
       "\n",
       "       [[ True,  True,  True, ...,  True,  True,  True],\n",
       "        [ True,  True,  True, ...,  True,  True,  True],\n",
       "        [ True,  True,  True, ...,  True,  True,  True],\n",
       "        ...,\n",
       "        [ True,  True,  True, ...,  True,  True,  True],\n",
       "        [ True,  True,  True, ...,  True,  True,  True],\n",
       "        [ True,  True,  True, ...,  True,  True,  True]],\n",
       "\n",
       "       [[ True,  True,  True, ...,  True,  True,  True],\n",
       "        [ True,  True,  True, ...,  True,  True,  True],\n",
       "        [ True,  True,  True, ...,  True,  True,  True],\n",
       "        ...,\n",
       "        [ True,  True,  True, ...,  True,  True,  True],\n",
       "        [ True,  True,  True, ...,  True,  True,  True],\n",
       "        [ True,  True,  True, ...,  True,  True,  True]]])"
      ]
     },
     "execution_count": 19,
     "metadata": {},
     "output_type": "execute_result"
    }
   ],
   "source": [
    "Y_train[12] == X_train[12]"
   ]
  },
  {
   "cell_type": "code",
   "execution_count": 20,
   "metadata": {},
   "outputs": [
    {
     "data": {
      "image/png": "[encoded data removed]",
      "text/plain": [
       "<Figure size 432x288 with 1 Axes>"
      ]
     },
     "metadata": {
      "needs_background": "light"
     },
     "output_type": "display_data"
    },
    {
     "data": {
      "image/png": "[encoded data removed]",
      "text/plain": [
       "<Figure size 432x288 with 1 Axes>"
      ]
     },
     "metadata": {
      "needs_background": "light"
     },
     "output_type": "display_data"
    }
   ],
   "source": [
    "slice_A = X_train[12][1]\n",
    "fig, ax = plt.subplots()\n",
    "ax.imshow(slice_A, cmap=\"gray\")\n",
    "#plt.savefig('noisy_img(1).png',bbox_inches='tight')\n",
    "plt.show()\n",
    "\n",
    "B = X_train[12]-resi\n",
    "slice_B = B[1]\n",
    "fig, ax = plt.subplots()\n",
    "ax.imshow(slice_B, cmap=\"gray\")\n",
    "#plt.savefig('noise_free(1).png',bbox_inches='tight')\n",
    "plt.show()\n"
   ]
  },
  {
   "cell_type": "code",
   "execution_count": 21,
   "metadata": {},
   "outputs": [],
   "source": [
    "noise_inserted = []\n",
    "noise_removed = []\n",
    "nins = 0\n",
    "nrem = 0\n",
    "for i in range(30,35):\n",
    "    nins = PSNR(test_img[i],X_train[i])\n",
    "    resi = model.predict(np.array(X_train[i]).reshape(-1,3,256,150,1))\n",
    "    resi = resi.reshape(3,256,150)\n",
    "    nrem = PSNR(X_train[i]-resi,X_train[i])\n",
    "    noise_inserted.append(nins) \n",
    "    noise_removed.append(nrem)"
   ]
  },
  {
   "cell_type": "code",
   "execution_count": 22,
   "metadata": {},
   "outputs": [
    {
     "data": {
      "text/plain": [
       "61.21"
      ]
     },
     "execution_count": 22,
     "metadata": {},
     "output_type": "execute_result"
    }
   ],
   "source": [
    "nins = PSNR(test_img[i],X_train[i])\n",
    "nins"
   ]
  },
  {
   "cell_type": "code",
   "execution_count": 23,
   "metadata": {},
   "outputs": [
    {
     "data": {
      "text/plain": [
       "[61.48, 61.12, 61.08, 61.69, 61.21]"
      ]
     },
     "execution_count": 23,
     "metadata": {},
     "output_type": "execute_result"
    }
   ],
   "source": [
    "noise_inserted"
   ]
  },
  {
   "cell_type": "code",
   "execution_count": 24,
   "metadata": {},
   "outputs": [
    {
     "data": {
      "text/plain": [
       "[64.64, 64.91, 65.23, 64.55, 66.05]"
      ]
     },
     "execution_count": 24,
     "metadata": {},
     "output_type": "execute_result"
    }
   ],
   "source": [
    "noise_removed"
   ]
  },
  {
   "cell_type": "code",
   "execution_count": 25,
   "metadata": {},
   "outputs": [],
   "source": [
    "slice_A = test_img[35:40]"
   ]
  },
  {
   "cell_type": "code",
   "execution_count": 26,
   "metadata": {},
   "outputs": [],
   "source": [
    "import random\n",
    "import numpy as np\n",
    "def add_rician_noise_to_img(noise_percent,img):\n",
    "    random_factor = noise_percent * np.random.normal(loc=0., scale=1., size=img.shape)\n",
    "    noise_image_real = img + random_factor\n",
    "    noise_image_img = random_factor\n",
    "    noise_image_real = np.square(noise_image_real) \n",
    "    noise_image_img = np.square(noise_image_img) \n",
    "    rician_noise_square =  noise_image_img + noise_image_real\n",
    "    rician_noise_image = np.sqrt(rician_noise_square)\n",
    "    return rician_noise_image"
   ]
  },
  {
   "cell_type": "code",
   "execution_count": 27,
   "metadata": {},
   "outputs": [],
   "source": [
    "noise_inserted = []\n",
    "noise_removed = []\n",
    "nins = 0\n",
    "nrem = 0\n",
    "for i in range(5):\n",
    "    rr = add_rician_noise_to_img(0.2,slice_A[i])\n",
    "    nins = PSNR(slice_A[i],rr)\n",
    "    resi = model.predict(np.array(rr).reshape(-1,3,256,150,1))\n",
    "    resi = resi.reshape(3,256,150)\n",
    "    nrem = PSNR(rr-resi,rr)\n",
    "    noise_inserted.append(nins) \n",
    "    noise_removed.append(nrem)"
   ]
  },
  {
   "cell_type": "code",
   "execution_count": 28,
   "metadata": {},
   "outputs": [
    {
     "data": {
      "text/plain": [
       "[59.29, 59.31, 59.42, 57.8, 59.27]"
      ]
     },
     "execution_count": 28,
     "metadata": {},
     "output_type": "execute_result"
    }
   ],
   "source": [
    "noise_inserted#15 / 20"
   ]
  },
  {
   "cell_type": "code",
   "execution_count": 29,
   "metadata": {},
   "outputs": [
    {
     "data": {
      "text/plain": [
       "[65.18, 64.41, 65.26, 63.64, 63.78]"
      ]
     },
     "execution_count": 29,
     "metadata": {},
     "output_type": "execute_result"
    }
   ],
   "source": [
    "noise_removed#15 / 20"
   ]
  },
  {
   "cell_type": "code",
   "execution_count": null,
   "metadata": {},
   "outputs": [],
   "source": [
    "noise_inserted = []\n",
    "noise_removed = []\n",
    "nins = 0\n",
    "nrem = 0\n",
    "for i in range(5):\n",
    "    rr = add_rician_noise_to_img(0.1,slice_A[i])\n",
    "    nins = PSNR(slice_A[i],rr)\n",
    "    resi = model.predict(np.array(rr).reshape(-1,3,256,150,1))\n",
    "    resi = resi.reshape(3,256,150)\n",
    "    nrem = PSNR(rr-resi,rr)\n",
    "    noise_inserted.append(nins) \n",
    "    noise_removed.append(nrem)"
   ]
  },
  {
   "cell_type": "code",
   "execution_count": null,
   "metadata": {},
   "outputs": [],
   "source": [
    "noise_inserted"
   ]
  },
  {
   "cell_type": "code",
   "execution_count": null,
   "metadata": {},
   "outputs": [],
   "source": [
    "noise_removed"
   ]
  }
 ],
 "metadata": {
  "kernelspec": {
   "display_name": "Python 3",
   "language": "python",
   "name": "python3"
  },
  "language_info": {
   "codemirror_mode": {
    "name": "ipython",
    "version": 3
   },
   "file_extension": ".py",
   "mimetype": "text/x-python",
   "name": "python",
   "nbconvert_exporter": "python",
   "pygments_lexer": "ipython3",
   "version": "3.7.4"
  }
 },
 "nbformat": 4,
 "nbformat_minor": 2
}
